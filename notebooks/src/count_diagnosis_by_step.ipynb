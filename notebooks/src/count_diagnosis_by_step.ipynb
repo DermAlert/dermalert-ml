{
 "cells": [
  {
   "cell_type": "code",
   "id": "initial_id",
   "metadata": {
    "collapsed": true,
    "ExecuteTime": {
     "end_time": "2025-05-14T05:06:44.211226Z",
     "start_time": "2025-05-14T05:06:43.516817Z"
    }
   },
   "source": [
    "import pandas as pd\n",
    "\n",
    "# Leitura\n",
    "df = pd.read_csv('data/raw/metadata/dermoscopic_100_000.csv', low_memory=False)\n",
    "\n",
    "# 2. Defina as colunas de nível de diagnóstico\n",
    "diag_cols = [\n",
    "    'diagnosis_1',\n",
    "    'diagnosis_2',\n",
    "    'diagnosis_3',\n",
    "    'diagnosis_4',\n",
    "    'diagnosis_5'\n",
    "]\n",
    "\n",
    "# 3. Conte quantas vezes cada diagnóstico aparece em cada nível\n",
    "counts_per_level = {\n",
    "    col: df[col].value_counts(dropna=True)\n",
    "    for col in diag_cols\n",
    "}\n",
    "\n",
    "# 4. Converta em DataFrame, preenchendo zeros onde necessário\n",
    "counts_df = pd.DataFrame(counts_per_level).fillna(0).astype(int)\n",
    "\n",
    "# 5. Exiba o resultado\n",
    "print(counts_df)\n",
    "\n",
    "# Opcional: salvar em CSV"
   ],
   "outputs": [
    {
     "name": "stdout",
     "output_type": "stream",
     "text": [
      "                                        diagnosis_1  diagnosis_2  diagnosis_3  \\\n",
      "Actinic keratosis, Bowenoid                       0            0            0   \n",
      "Actinic keratosis, Hypertrophic                   0            0            0   \n",
      "Actinic keratosis, Lichenoid                      0            0            0   \n",
      "Angiofibroma                                      0            0            1   \n",
      "Angiofibroma, Facial                              0            0            0   \n",
      "...                                             ...          ...          ...   \n",
      "Subcorneal and intracorneal hemorrhage            0            0            0   \n",
      "Tricholemmoma                                     0            0            1   \n",
      "Vascular spider                                   0            0           14   \n",
      "Verruca                                           0            0           27   \n",
      "Warty dyskeratoma                                 0            0            2   \n",
      "\n",
      "                                        diagnosis_4  diagnosis_5  \n",
      "Actinic keratosis, Bowenoid                       4            0  \n",
      "Actinic keratosis, Hypertrophic                  45            0  \n",
      "Actinic keratosis, Lichenoid                     13            0  \n",
      "Angiofibroma                                      0            0  \n",
      "Angiofibroma, Facial                              1            0  \n",
      "...                                             ...          ...  \n",
      "Subcorneal and intracorneal hemorrhage            3            0  \n",
      "Tricholemmoma                                     0            0  \n",
      "Vascular spider                                   0            0  \n",
      "Verruca                                           0            0  \n",
      "Warty dyskeratoma                                 0            0  \n",
      "\n",
      "[111 rows x 5 columns]\n"
     ]
    }
   ],
   "execution_count": 9
  }
 ],
 "metadata": {
  "kernelspec": {
   "display_name": "Python 3",
   "language": "python",
   "name": "python3"
  },
  "language_info": {
   "codemirror_mode": {
    "name": "ipython",
    "version": 2
   },
   "file_extension": ".py",
   "mimetype": "text/x-python",
   "name": "python",
   "nbconvert_exporter": "python",
   "pygments_lexer": "ipython2",
   "version": "2.7.6"
  }
 },
 "nbformat": 4,
 "nbformat_minor": 5
}
